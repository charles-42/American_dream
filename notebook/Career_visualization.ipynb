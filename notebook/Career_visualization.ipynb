{
 "cells": [
  {
   "cell_type": "code",
   "execution_count": 11,
   "id": "starting-preliminary",
   "metadata": {},
   "outputs": [],
   "source": [
    "#Pour que python reconnaisse un dossier comme un module il faut ajouter en son sein un fichier __init__.py \n",
    "#et également l'ajouter au PATH\n",
    "\n",
    "import sys\n",
    "sys.path.insert(0, \"/home/apprenant/PycharmProjects/American_dream\")\n",
    "\n",
    "\n",
    "#On peut ensuite importer le dossier comme un module\n",
    "\n",
    "import src as src\n",
    "\n",
    "#Et utiliser les fonctions qu'il contient\n",
    "#dans l'exemple on a défini la fonction plus_cinq dans le fichier load data \n",
    "# du sous module d01_data( qui contient également un fichier __init__.py)\n",
    "\n",
    "sr.d01_data.load_data.plus_cinq(3)"
   ]
  },
  {
   "cell_type": "code",
   "execution_count": null,
   "id": "square-scholar",
   "metadata": {},
   "outputs": [],
   "source": []
  }
 ],
 "metadata": {
  "kernelspec": {
   "display_name": "Python 3",
   "language": "python",
   "name": "python3"
  },
  "language_info": {
   "codemirror_mode": {
    "name": "ipython",
    "version": 3
   },
   "file_extension": ".py",
   "mimetype": "text/x-python",
   "name": "python",
   "nbconvert_exporter": "python",
   "pygments_lexer": "ipython3",
   "version": "3.9.1"
  }
 },
 "nbformat": 4,
 "nbformat_minor": 5
}
